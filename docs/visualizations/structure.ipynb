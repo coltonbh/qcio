{
 "cells": [
  {
   "cell_type": "markdown",
   "id": "5dba1f4f",
   "metadata": {},
   "source": [
    "## Easily view and interact with any structure"
   ]
  },
  {
   "cell_type": "code",
   "execution_count": 1,
   "id": "c35d715d-a6ea-415b-b357-ca03a593c7dc",
   "metadata": {},
   "outputs": [],
   "source": [
    "from qcio import Structure, view\n",
    "# Defaults changed just to fit within narrow documentation layout\n",
    "view.DEFAULT_WIDTH = 400\n",
    "view.DEFAULT_HEIGHT = 300"
   ]
  },
  {
   "cell_type": "code",
   "execution_count": 2,
   "id": "532efe5b-3cef-413e-9f76-b0b646921be2",
   "metadata": {},
   "outputs": [
    {
     "data": {
      "text/html": [
       "<div style=\"display: flex; flex-wrap: wrap; justify-content: center;\"><div id=\"3dmolviewer_1723855210527357\"  style=\"position: relative; width: 400px; height: 300px;\">\n",
       "        <p id=\"3dmolwarning_1723855210527357\" style=\"background-color:#ffcccc;color:black\">3Dmol.js failed to load for some reason.  Please check your browser console for error messages.<br></p>\n",
       "        </div>\n",
       "<script>\n",
       "\n",
       "var loadScriptAsync = function(uri){\n",
       "  return new Promise((resolve, reject) => {\n",
       "    //this is to ignore the existence of requirejs amd\n",
       "    var savedexports, savedmodule;\n",
       "    if (typeof exports !== 'undefined') savedexports = exports;\n",
       "    else exports = {}\n",
       "    if (typeof module !== 'undefined') savedmodule = module;\n",
       "    else module = {}\n",
       "\n",
       "    var tag = document.createElement('script');\n",
       "    tag.src = uri;\n",
       "    tag.async = true;\n",
       "    tag.onload = () => {\n",
       "        exports = savedexports;\n",
       "        module = savedmodule;\n",
       "        resolve();\n",
       "    };\n",
       "  var firstScriptTag = document.getElementsByTagName('script')[0];\n",
       "  firstScriptTag.parentNode.insertBefore(tag, firstScriptTag);\n",
       "});\n",
       "};\n",
       "\n",
       "if(typeof $3Dmolpromise === 'undefined') {\n",
       "$3Dmolpromise = null;\n",
       "  $3Dmolpromise = loadScriptAsync('https://cdnjs.cloudflare.com/ajax/libs/3Dmol/2.2.1-post1/3Dmol-min.js');\n",
       "}\n",
       "\n",
       "var viewer_1723855210527357 = null;\n",
       "var warn = document.getElementById(\"3dmolwarning_1723855210527357\");\n",
       "if(warn) {\n",
       "    warn.parentNode.removeChild(warn);\n",
       "}\n",
       "$3Dmolpromise.then(function() {\n",
       "var viewergrid_1723855210527357 = null;\n",
       "viewergrid_1723855210527357 = $3Dmol.createViewerGrid(document.getElementById(\"3dmolviewer_1723855210527357\"),{rows: 1, cols: 1, control_all: true},{backgroundColor:\"white\"});\n",
       "viewer_1723855210527357 = viewergrid_1723855210527357[0][0];\n",
       "viewergrid_1723855210527357[0][0].zoomTo();\tviewergrid_1723855210527357[0][0].addModel(\"24\\nqcio_charge=0 qcio_multiplicity=1 qcio__identifiers_smiles=CN1C=NC2=C1C(=O)N(C(=O)N2C)C qcio__identifiers_canonical_smiles=Cn1c(=O)c2c(ncn2C)n(C)c1=O qcio__identifiers_canonical_smiles_program=rdkit\\nC  3.26693753413035592 0.61321422485499033 -0.24222262957910462\\nN  2.12624092030091383 -0.26660733068334846 -0.26956827588800358\\nC  2.15123764649347349 -1.61690781275382989 -0.49922951473681232\\nN  0.94143305238740871 -2.13935397871999422 -0.45918922577554883\\nC  0.12427667546891251 -1.08199167800579232 -0.19504623357719852\\nC  0.82082045213319599 0.08179905499373845 -0.07300819388761233\\nC  0.20533726974490843 1.33276600443992099 0.20236858434780858\\nO  0.84248562181697562 2.37626305144882144 0.31046078216152029\\nN  -1.18314934177957398 1.23554225224132397 0.33278624751944558\\nC  -1.93971603784166002 0.05065139000963853 0.21354400505216184\\nO  -3.16724817832064698 0.06607179066465535 0.34588587623826783\\nN  -1.24193799650777992 -1.12667675341793982 -0.05814990677396682\\nC  -1.94569478413539954 -2.38859570395796172 -0.19592294779633337\\nC  -1.92909579462545255 2.44619967315941134 0.61517658080998938\\nH  4.17596735815132103 0.03768615501609014 -0.43506458712746865\\nH  3.14001800923285668 1.37197597842584873 -1.01838171543389122\\nH  3.32654349391971849 1.07529717135849068 0.74630036945023670\\nH  3.06593367821111951 -2.16493872577946656 -0.68805070464267204\\nH  -1.57431096924193792 -3.08907470976489806 0.55881606511393866\\nH  -3.02420123549253228 -2.27109148317566945 -0.06216550228157819\\nH  -1.75974817985090737 -2.79412532673585012 -1.19552127617435944\\nH  -2.47507793741753845 2.31595575616044114 1.55541394319424464\\nH  -2.65901490195811840 2.60853572440605452 -0.18480559330491697\\nH  -1.28803635481966583 3.32740527581565582 0.69557385309180275\\n\",\"xyz\");\n",
       "\tviewergrid_1723855210527357[0][0].addLabel(\"CN1C=NC2=C1C(=O)N(C(=O)N2C)C \",{\"position\": {\"x\": 200.0, \"y\": 0, \"z\": 0}, \"alignment\": \"topCenter\", \"fontSize\": 24, \"backgroundOpacity\": 0, \"fontColor\": \"black\", \"useScreen\": true});\n",
       "\tviewergrid_1723855210527357[0][0].addLabel(\" \",{\"position\": {\"x\": 200.0, \"y\": 300, \"z\": 0}, \"alignment\": \"bottomCenter\", \"fontSize\": 20, \"backgroundOpacity\": 0, \"fontColor\": \"black\", \"useScreen\": true});\n",
       "\tviewergrid_1723855210527357[0][0].setStyle({\"stick\": {}, \"sphere\": {\"scale\": 0.3}});\n",
       "\tviewergrid_1723855210527357[0][0].zoomTo();\n",
       "viewergrid_1723855210527357[0][0].render();\n",
       "});\n",
       "</script></div>"
      ],
      "text/plain": [
       "<IPython.core.display.HTML object>"
      ]
     },
     "metadata": {},
     "output_type": "display_data"
    }
   ],
   "source": [
    "caffeine = Structure.from_smiles('CN1C=NC2=C1C(=O)N(C(=O)N2C)C')\n",
    "view.view(caffeine)"
   ]
  },
  {
   "cell_type": "markdown",
   "id": "f8ddf299",
   "metadata": {},
   "source": [
    "## Pass any number of objects (of any type) to view"
   ]
  },
  {
   "cell_type": "code",
   "execution_count": 3,
   "id": "9307a001",
   "metadata": {},
   "outputs": [
    {
     "data": {
      "text/html": [
       "<div style=\"display: flex; flex-wrap: wrap; justify-content: center;\"><div id=\"3dmolviewer_17238552105552895\"  style=\"position: relative; width: 800px; height: 300px;\">\n",
       "        <p id=\"3dmolwarning_17238552105552895\" style=\"background-color:#ffcccc;color:black\">3Dmol.js failed to load for some reason.  Please check your browser console for error messages.<br></p>\n",
       "        </div>\n",
       "<script>\n",
       "\n",
       "var loadScriptAsync = function(uri){\n",
       "  return new Promise((resolve, reject) => {\n",
       "    //this is to ignore the existence of requirejs amd\n",
       "    var savedexports, savedmodule;\n",
       "    if (typeof exports !== 'undefined') savedexports = exports;\n",
       "    else exports = {}\n",
       "    if (typeof module !== 'undefined') savedmodule = module;\n",
       "    else module = {}\n",
       "\n",
       "    var tag = document.createElement('script');\n",
       "    tag.src = uri;\n",
       "    tag.async = true;\n",
       "    tag.onload = () => {\n",
       "        exports = savedexports;\n",
       "        module = savedmodule;\n",
       "        resolve();\n",
       "    };\n",
       "  var firstScriptTag = document.getElementsByTagName('script')[0];\n",
       "  firstScriptTag.parentNode.insertBefore(tag, firstScriptTag);\n",
       "});\n",
       "};\n",
       "\n",
       "if(typeof $3Dmolpromise === 'undefined') {\n",
       "$3Dmolpromise = null;\n",
       "  $3Dmolpromise = loadScriptAsync('https://cdnjs.cloudflare.com/ajax/libs/3Dmol/2.2.1-post1/3Dmol-min.js');\n",
       "}\n",
       "\n",
       "var viewer_17238552105552895 = null;\n",
       "var warn = document.getElementById(\"3dmolwarning_17238552105552895\");\n",
       "if(warn) {\n",
       "    warn.parentNode.removeChild(warn);\n",
       "}\n",
       "$3Dmolpromise.then(function() {\n",
       "var viewergrid_17238552105552895 = null;\n",
       "viewergrid_17238552105552895 = $3Dmol.createViewerGrid(document.getElementById(\"3dmolviewer_17238552105552895\"),{rows: 1, cols: 2, control_all: false},{backgroundColor:\"white\"});\n",
       "viewer_17238552105552895 = viewergrid_17238552105552895[0][0];\n",
       "viewergrid_17238552105552895[0][0].zoomTo();viewergrid_17238552105552895[0][1].zoomTo();\tviewergrid_17238552105552895[0][0].addModel(\"25\\nqcio_charge=0 qcio_multiplicity=1 qcio__identifiers_smiles=C1=CC2=C(C=C1O)C(=CN2)CCN qcio__identifiers_canonical_smiles=NCCc1c[nH]c2ccc(O)cc12 qcio__identifiers_canonical_smiles_program=rdkit\\nC  2.80662837943892596 0.19461624510125644 1.62644004594558789\\nC  2.18671738713131081 -1.04739462810659001 1.78559406544228305\\nC  1.04205221631035050 -1.30371588331231392 1.01976405293294148\\nC  0.51135558434941475 -0.38099887062730470 0.11625514708800186\\nC  1.15528315276037841 0.86637271442856167 -0.02525252446684082\\nC  2.29336987732469488 1.13099264862406690 0.73973086890098005\\nO  2.94019505341360654 2.33042463772491804 0.64072408820936022\\nC  -0.64248928597900123 -0.98139451755059748 -0.48590882876610791\\nC  -0.77415410236114401 -2.23828935762225933 0.07514506173286904\\nN  0.23947356255826094 -2.41856452406281708 0.97631545313932067\\nC  -1.53584322201008616 -0.38941800438644519 -1.53453994105079805\\nC  -2.55261258637334310 0.62389585158003458 -0.98757820497747850\\nN  -2.03784623404194587 1.99659435506692651 -0.95736744415048758\\nH  3.69504497676978971 0.43297752545155627 2.20497726891362067\\nH  2.58244102558036603 -1.77972645463350809 2.48100386493334835\\nH  0.75377724819234682 1.60007920276663640 -0.71439409236891127\\nH  2.42717931676543630 2.89619196027562076 0.04027652711009141\\nH  -1.50211112477823416 -3.02022181334629458 -0.09489126075898915\\nH  0.38600652411385267 -3.24987117750598165 1.53133884665722397\\nH  -0.92963077628609858 0.05707205393057579 -2.33283807432805279\\nH  -2.09467533618915525 -1.20723015268739697 -2.00932783141162341\\nH  -2.88582840927973061 0.34008317783131742 0.01697273380365259\\nH  -3.43672981497666674 0.62051368655550287 -1.63562243768870519\\nH  -1.87522970904775632 2.31753693807875072 -1.91053679716472602\\nH  -2.75237370338658005 2.60947438642610452 -0.56628058767652500\\n\",\"xyz\");\n",
       "\tviewergrid_17238552105552895[0][0].addLabel(\"C1=CC2=C(C=C1O)C(=CN2)CCN \",{\"position\": {\"x\": 200.0, \"y\": 0, \"z\": 0}, \"alignment\": \"topCenter\", \"fontSize\": 24, \"backgroundOpacity\": 0, \"fontColor\": \"black\", \"useScreen\": true});\n",
       "\tviewergrid_17238552105552895[0][0].addLabel(\" \",{\"position\": {\"x\": 200.0, \"y\": 300, \"z\": 0}, \"alignment\": \"bottomCenter\", \"fontSize\": 20, \"backgroundOpacity\": 0, \"fontColor\": \"black\", \"useScreen\": true});\n",
       "\tviewergrid_17238552105552895[0][1].addModel(\"22\\nqcio_charge=0 qcio_multiplicity=1 qcio__identifiers_smiles=NCCc1cc(O)c(O)cc1 qcio__identifiers_canonical_smiles=NCCc1ccc(O)c(O)c1 qcio__identifiers_canonical_smiles_program=rdkit\\nN  -3.82831747238149411 0.47797332750282095 0.01557447593432387\\nC  -2.44674839009917244 0.29824270330147828 0.46007480321415595\\nC  -1.52880033545415484 -0.05563548727794237 -0.71454775657072400\\nC  -0.09796828627024931 -0.23799898591558089 -0.26762190827144189\\nC  0.78504240481459764 0.85189771715028473 -0.25193925437347586\\nC  2.09451440396264932 0.66832214640712939 0.17205335000858096\\nO  2.96010598303404127 1.72266094692922955 0.11710946822371407\\nC  2.52773316430253425 -0.57657842472618315 0.61755030715260861\\nO  3.79030556489432247 -0.73455878561961718 1.11146772189513365\\nC  1.67273080040658995 -1.66802681757307858 0.59760341369749626\\nC  0.35783253729462089 -1.49806038997911073 0.15693275419270553\\nH  -4.40489466202813951 0.73725422629241977 0.81557357253781837\\nH  -3.87864135414258637 1.26170786257199774 -0.63454846411673349\\nH  -2.41980660609490750 -0.49757616273153082 1.21313769218607792\\nH  -2.10477651018549006 1.21810035735981526 0.94861016814279753\\nH  -1.57120839716960137 0.72925341488762829 -1.48105122838296621\\nH  -1.87565617658815365 -0.97446770548190109 -1.20519382390179808\\nH  0.46217962862540890 1.83450272373461098 -0.58477475867416895\\nH  3.81313081254230157 1.34944717949571857 -0.17258231972863564\\nH  3.99137606415011925 0.08721044955844016 1.59586279009137133\\nH  2.01656187383775398 -2.63990545674299470 0.93837385160721420\\nH  -0.31469504745108745 -2.35376483914379797 0.15270025171143120\\n\",\"xyz\");\n",
       "\tviewergrid_17238552105552895[0][1].addLabel(\"NCCc1cc(O)c(O)cc1 \",{\"position\": {\"x\": 200.0, \"y\": 0, \"z\": 0}, \"alignment\": \"topCenter\", \"fontSize\": 24, \"backgroundOpacity\": 0, \"fontColor\": \"black\", \"useScreen\": true});\n",
       "\tviewergrid_17238552105552895[0][1].addLabel(\" \",{\"position\": {\"x\": 200.0, \"y\": 300, \"z\": 0}, \"alignment\": \"bottomCenter\", \"fontSize\": 20, \"backgroundOpacity\": 0, \"fontColor\": \"black\", \"useScreen\": true});\n",
       "\tviewergrid_17238552105552895[0][0].setStyle({\"stick\": {}, \"sphere\": {\"scale\": 0.3}});\n",
       "\tviewergrid_17238552105552895[0][1].setStyle({\"stick\": {}, \"sphere\": {\"scale\": 0.3}});\n",
       "\tviewergrid_17238552105552895[0][0].zoomTo();\n",
       "\tviewergrid_17238552105552895[0][1].zoomTo();\n",
       "viewergrid_17238552105552895[0][1].render();\n",
       "viewergrid_17238552105552895[0][0].render();\n",
       "});\n",
       "</script></div>"
      ],
      "text/plain": [
       "<IPython.core.display.HTML object>"
      ]
     },
     "metadata": {},
     "output_type": "display_data"
    }
   ],
   "source": [
    "serotonin = Structure.from_smiles(\"C1=CC2=C(C=C1O)C(=CN2)CCN\")\n",
    "dopamine = Structure.from_smiles(\"NCCc1cc(O)c(O)cc1\")\n",
    "view.view(serotonin, dopamine)"
   ]
  },
  {
   "cell_type": "markdown",
   "id": "c7a345d1",
   "metadata": {},
   "source": [
    "## Titles are generated automatically from identifier information"
   ]
  },
  {
   "cell_type": "code",
   "execution_count": 4,
   "id": "51f329f7",
   "metadata": {},
   "outputs": [
    {
     "data": {
      "text/html": [
       "<div style=\"display: flex; flex-wrap: wrap; justify-content: center;\"><div id=\"3dmolviewer_1723855210561661\"  style=\"position: relative; width: 800px; height: 300px;\">\n",
       "        <p id=\"3dmolwarning_1723855210561661\" style=\"background-color:#ffcccc;color:black\">3Dmol.js failed to load for some reason.  Please check your browser console for error messages.<br></p>\n",
       "        </div>\n",
       "<script>\n",
       "\n",
       "var loadScriptAsync = function(uri){\n",
       "  return new Promise((resolve, reject) => {\n",
       "    //this is to ignore the existence of requirejs amd\n",
       "    var savedexports, savedmodule;\n",
       "    if (typeof exports !== 'undefined') savedexports = exports;\n",
       "    else exports = {}\n",
       "    if (typeof module !== 'undefined') savedmodule = module;\n",
       "    else module = {}\n",
       "\n",
       "    var tag = document.createElement('script');\n",
       "    tag.src = uri;\n",
       "    tag.async = true;\n",
       "    tag.onload = () => {\n",
       "        exports = savedexports;\n",
       "        module = savedmodule;\n",
       "        resolve();\n",
       "    };\n",
       "  var firstScriptTag = document.getElementsByTagName('script')[0];\n",
       "  firstScriptTag.parentNode.insertBefore(tag, firstScriptTag);\n",
       "});\n",
       "};\n",
       "\n",
       "if(typeof $3Dmolpromise === 'undefined') {\n",
       "$3Dmolpromise = null;\n",
       "  $3Dmolpromise = loadScriptAsync('https://cdnjs.cloudflare.com/ajax/libs/3Dmol/2.2.1-post1/3Dmol-min.js');\n",
       "}\n",
       "\n",
       "var viewer_1723855210561661 = null;\n",
       "var warn = document.getElementById(\"3dmolwarning_1723855210561661\");\n",
       "if(warn) {\n",
       "    warn.parentNode.removeChild(warn);\n",
       "}\n",
       "$3Dmolpromise.then(function() {\n",
       "var viewergrid_1723855210561661 = null;\n",
       "viewergrid_1723855210561661 = $3Dmol.createViewerGrid(document.getElementById(\"3dmolviewer_1723855210561661\"),{rows: 1, cols: 2, control_all: false},{backgroundColor:\"white\"});\n",
       "viewer_1723855210561661 = viewergrid_1723855210561661[0][0];\n",
       "viewergrid_1723855210561661[0][0].zoomTo();viewergrid_1723855210561661[0][1].zoomTo();\tviewergrid_1723855210561661[0][0].addModel(\"25\\nqcio_charge=0 qcio_multiplicity=1 qcio__identifiers_name=Serotonin qcio__identifiers_smiles=C1=CC2=C(C=C1O)C(=CN2)CCN qcio__identifiers_canonical_smiles=NCCc1c[nH]c2ccc(O)cc12 qcio__identifiers_canonical_smiles_program=rdkit\\nC  2.80662837943892596 0.19461624510125644 1.62644004594558789\\nC  2.18671738713131081 -1.04739462810659001 1.78559406544228305\\nC  1.04205221631035050 -1.30371588331231392 1.01976405293294148\\nC  0.51135558434941475 -0.38099887062730470 0.11625514708800186\\nC  1.15528315276037841 0.86637271442856167 -0.02525252446684082\\nC  2.29336987732469488 1.13099264862406690 0.73973086890098005\\nO  2.94019505341360654 2.33042463772491804 0.64072408820936022\\nC  -0.64248928597900123 -0.98139451755059748 -0.48590882876610791\\nC  -0.77415410236114401 -2.23828935762225933 0.07514506173286904\\nN  0.23947356255826094 -2.41856452406281708 0.97631545313932067\\nC  -1.53584322201008616 -0.38941800438644519 -1.53453994105079805\\nC  -2.55261258637334310 0.62389585158003458 -0.98757820497747850\\nN  -2.03784623404194587 1.99659435506692651 -0.95736744415048758\\nH  3.69504497676978971 0.43297752545155627 2.20497726891362067\\nH  2.58244102558036603 -1.77972645463350809 2.48100386493334835\\nH  0.75377724819234682 1.60007920276663640 -0.71439409236891127\\nH  2.42717931676543630 2.89619196027562076 0.04027652711009141\\nH  -1.50211112477823416 -3.02022181334629458 -0.09489126075898915\\nH  0.38600652411385267 -3.24987117750598165 1.53133884665722397\\nH  -0.92963077628609858 0.05707205393057579 -2.33283807432805279\\nH  -2.09467533618915525 -1.20723015268739697 -2.00932783141162341\\nH  -2.88582840927973061 0.34008317783131742 0.01697273380365259\\nH  -3.43672981497666674 0.62051368655550287 -1.63562243768870519\\nH  -1.87522970904775632 2.31753693807875072 -1.91053679716472602\\nH  -2.75237370338658005 2.60947438642610452 -0.56628058767652500\\n\",\"xyz\");\n",
       "\tviewergrid_1723855210561661[0][0].addLabel(\"Serotonin \",{\"position\": {\"x\": 200.0, \"y\": 0, \"z\": 0}, \"alignment\": \"topCenter\", \"fontSize\": 24, \"backgroundOpacity\": 0, \"fontColor\": \"black\", \"useScreen\": true});\n",
       "\tviewergrid_1723855210561661[0][0].addLabel(\" \",{\"position\": {\"x\": 200.0, \"y\": 300, \"z\": 0}, \"alignment\": \"bottomCenter\", \"fontSize\": 20, \"backgroundOpacity\": 0, \"fontColor\": \"black\", \"useScreen\": true});\n",
       "\tviewergrid_1723855210561661[0][1].addModel(\"22\\nqcio_charge=0 qcio_multiplicity=1 qcio__identifiers_name=Dopamine qcio__identifiers_smiles=NCCc1cc(O)c(O)cc1 qcio__identifiers_canonical_smiles=NCCc1ccc(O)c(O)c1 qcio__identifiers_canonical_smiles_program=rdkit\\nN  -3.82831747238149411 0.47797332750282095 0.01557447593432387\\nC  -2.44674839009917244 0.29824270330147828 0.46007480321415595\\nC  -1.52880033545415484 -0.05563548727794237 -0.71454775657072400\\nC  -0.09796828627024931 -0.23799898591558089 -0.26762190827144189\\nC  0.78504240481459764 0.85189771715028473 -0.25193925437347586\\nC  2.09451440396264932 0.66832214640712939 0.17205335000858096\\nO  2.96010598303404127 1.72266094692922955 0.11710946822371407\\nC  2.52773316430253425 -0.57657842472618315 0.61755030715260861\\nO  3.79030556489432247 -0.73455878561961718 1.11146772189513365\\nC  1.67273080040658995 -1.66802681757307858 0.59760341369749626\\nC  0.35783253729462089 -1.49806038997911073 0.15693275419270553\\nH  -4.40489466202813951 0.73725422629241977 0.81557357253781837\\nH  -3.87864135414258637 1.26170786257199774 -0.63454846411673349\\nH  -2.41980660609490750 -0.49757616273153082 1.21313769218607792\\nH  -2.10477651018549006 1.21810035735981526 0.94861016814279753\\nH  -1.57120839716960137 0.72925341488762829 -1.48105122838296621\\nH  -1.87565617658815365 -0.97446770548190109 -1.20519382390179808\\nH  0.46217962862540890 1.83450272373461098 -0.58477475867416895\\nH  3.81313081254230157 1.34944717949571857 -0.17258231972863564\\nH  3.99137606415011925 0.08721044955844016 1.59586279009137133\\nH  2.01656187383775398 -2.63990545674299470 0.93837385160721420\\nH  -0.31469504745108745 -2.35376483914379797 0.15270025171143120\\n\",\"xyz\");\n",
       "\tviewergrid_1723855210561661[0][1].addLabel(\"Dopamine \",{\"position\": {\"x\": 200.0, \"y\": 0, \"z\": 0}, \"alignment\": \"topCenter\", \"fontSize\": 24, \"backgroundOpacity\": 0, \"fontColor\": \"black\", \"useScreen\": true});\n",
       "\tviewergrid_1723855210561661[0][1].addLabel(\" \",{\"position\": {\"x\": 200.0, \"y\": 300, \"z\": 0}, \"alignment\": \"bottomCenter\", \"fontSize\": 20, \"backgroundOpacity\": 0, \"fontColor\": \"black\", \"useScreen\": true});\n",
       "\tviewergrid_1723855210561661[0][0].setStyle({\"stick\": {}, \"sphere\": {\"scale\": 0.3}});\n",
       "\tviewergrid_1723855210561661[0][1].setStyle({\"stick\": {}, \"sphere\": {\"scale\": 0.3}});\n",
       "\tviewergrid_1723855210561661[0][0].zoomTo();\n",
       "\tviewergrid_1723855210561661[0][1].zoomTo();\n",
       "viewergrid_1723855210561661[0][1].render();\n",
       "viewergrid_1723855210561661[0][0].render();\n",
       "});\n",
       "</script></div>"
      ],
      "text/plain": [
       "<IPython.core.display.HTML object>"
      ]
     },
     "metadata": {},
     "output_type": "display_data"
    }
   ],
   "source": [
    "serotonin.add_identifiers({\"name\": \"Serotonin\"})\n",
    "dopamine.add_identifiers({\"name\": \"Dopamine\"})\n",
    "view.view(serotonin, dopamine)"
   ]
  },
  {
   "cell_type": "markdown",
   "id": "800735ca",
   "metadata": {},
   "source": [
    "## Or manually add titles or subtitles"
   ]
  },
  {
   "cell_type": "code",
   "execution_count": 5,
   "id": "abc15425",
   "metadata": {},
   "outputs": [
    {
     "data": {
      "text/html": [
       "<div style=\"display: flex; flex-wrap: wrap; justify-content: center;\"><div id=\"3dmolviewer_17238552106064253\"  style=\"position: relative; width: 800px; height: 300px;\">\n",
       "        <p id=\"3dmolwarning_17238552106064253\" style=\"background-color:#ffcccc;color:black\">3Dmol.js failed to load for some reason.  Please check your browser console for error messages.<br></p>\n",
       "        </div>\n",
       "<script>\n",
       "\n",
       "var loadScriptAsync = function(uri){\n",
       "  return new Promise((resolve, reject) => {\n",
       "    //this is to ignore the existence of requirejs amd\n",
       "    var savedexports, savedmodule;\n",
       "    if (typeof exports !== 'undefined') savedexports = exports;\n",
       "    else exports = {}\n",
       "    if (typeof module !== 'undefined') savedmodule = module;\n",
       "    else module = {}\n",
       "\n",
       "    var tag = document.createElement('script');\n",
       "    tag.src = uri;\n",
       "    tag.async = true;\n",
       "    tag.onload = () => {\n",
       "        exports = savedexports;\n",
       "        module = savedmodule;\n",
       "        resolve();\n",
       "    };\n",
       "  var firstScriptTag = document.getElementsByTagName('script')[0];\n",
       "  firstScriptTag.parentNode.insertBefore(tag, firstScriptTag);\n",
       "});\n",
       "};\n",
       "\n",
       "if(typeof $3Dmolpromise === 'undefined') {\n",
       "$3Dmolpromise = null;\n",
       "  $3Dmolpromise = loadScriptAsync('https://cdnjs.cloudflare.com/ajax/libs/3Dmol/2.2.1-post1/3Dmol-min.js');\n",
       "}\n",
       "\n",
       "var viewer_17238552106064253 = null;\n",
       "var warn = document.getElementById(\"3dmolwarning_17238552106064253\");\n",
       "if(warn) {\n",
       "    warn.parentNode.removeChild(warn);\n",
       "}\n",
       "$3Dmolpromise.then(function() {\n",
       "var viewergrid_17238552106064253 = null;\n",
       "viewergrid_17238552106064253 = $3Dmol.createViewerGrid(document.getElementById(\"3dmolviewer_17238552106064253\"),{rows: 1, cols: 2, control_all: false},{backgroundColor:\"white\"});\n",
       "viewer_17238552106064253 = viewergrid_17238552106064253[0][0];\n",
       "viewergrid_17238552106064253[0][0].zoomTo();viewergrid_17238552106064253[0][1].zoomTo();\tviewergrid_17238552106064253[0][0].addModel(\"26\\nqcio_charge=0 qcio_multiplicity=1 qcio__identifiers_smiles=CNC[C@H](O)c1ccc(O)c(O)c1 qcio__identifiers_canonical_smiles=CNC[C@H](O)c1ccc(O)c(O)c1 qcio__identifiers_canonical_smiles_program=rdkit\\nC  3.97539428311132603 1.05358053261070173 0.79745312502916643\\nN  3.18181300133683642 -0.06371060467210046 0.29451407421646397\\nC  1.74289362525173797 0.27633628863162890 0.32018066031370190\\nC  0.86575405152554963 -0.96533031345295406 0.03050516876970877\\nO  1.35988918910921042 -1.63932693533944929 -1.13355006747430909\\nC  -0.58919217595809881 -0.58740960693537381 -0.15295419955077086\\nC  -1.14280044535405256 -0.37314161915464084 -1.42915733539063217\\nC  -2.48329455456477444 -0.00346624630896398 -1.58230840325177824\\nC  -3.27309337366619069 0.15919316586546634 -0.45228127704063564\\nO  -4.58965061065850310 0.51976404970436685 -0.53525485611208379\\nC  -2.73518631552513458 -0.04326374410318017 0.81508152114431831\\nO  -3.51754636880502813 0.12349752997091555 1.92213902571740247\\nC  -1.40683087330946011 -0.41319542056135961 0.97558496380877147\\nH  3.81685941007586793 1.95907219041667990 0.20266412209640322\\nH  3.73922597914856070 1.26543088052334318 1.84520282020448279\\nH  5.03795624645526363 0.79697459099701351 0.74477239515922122\\nH  3.44469415979637050 -0.22075516447118199 -0.68071952633809407\\nH  1.55710023780030737 1.04939573638376360 -0.43675505639443202\\nH  1.46093769306916021 0.69100602193212113 1.29606863871200884\\nH  0.94405574700021622 -1.68142426460967220 0.85866979925244757\\nH  2.24370776524222304 -1.95298687710386965 -0.86876174493459934\\nH  -0.52377718872942103 -0.50278731217540629 -2.31577909216709132\\nH  -2.88060422785193193 0.14810449365333539 -2.58036545718554367\\nH  -4.81820273911319497 0.60045000137306981 -1.47726802634170573\\nH  -4.39384820716907853 0.36939551539631366 1.56408199040596929\\nH  -1.01625430821589768 -0.56540288857009346 1.97823673735125372\\n\",\"xyz\");\n",
       "\tviewergrid_17238552106064253[0][0].addLabel(\"Good morning \\u2600\\ufe0f \",{\"position\": {\"x\": 200.0, \"y\": 0, \"z\": 0}, \"alignment\": \"topCenter\", \"fontSize\": 24, \"backgroundOpacity\": 0, \"fontColor\": \"black\", \"useScreen\": true});\n",
       "\tviewergrid_17238552106064253[0][0].addLabel(\" \",{\"position\": {\"x\": 200.0, \"y\": 300, \"z\": 0}, \"alignment\": \"bottomCenter\", \"fontSize\": 20, \"backgroundOpacity\": 0, \"fontColor\": \"black\", \"useScreen\": true});\n",
       "\tviewergrid_17238552106064253[0][1].addModel(\"18\\nqcio_charge=-1 qcio_multiplicity=1 qcio__identifiers_smiles=C(CC(=O)O)[C@@H](C(=O)[O-])N qcio__identifiers_canonical_smiles=N[C@@H](CCC(=O)O)C(=O)[O-] qcio__identifiers_canonical_smiles_program=rdkit\\nC  -0.04909714183693105 0.27994828170500125 0.42901240489348941\\nC  1.17463237572620316 0.32418997001197258 -0.48385850410520292\\nC  2.37766321205670206 0.84028864316080809 0.24956220072669169\\nO  2.98121085331894387 1.87706281402977648 0.01879046967455269\\nO  2.79528547189765675 0.02439502592559696 1.23687504993422515\\nC  -1.35014393039728797 0.04717271008894475 -0.33887278091565864\\nC  -1.36049565136191863 -1.40043238212735743 -0.96526125598194323\\nO  -0.81159694222206624 -1.49964573128437606 -2.09805069962795177\\nO  -1.94029182556948121 -2.27951829137483220 -0.25796038869324617\\nN  -2.50351713463422909 0.16956053079355052 0.61509791682956783\\nH  0.09394547202059006 -0.50388833739752248 1.18489305655373145\\nH  -0.11703364690895424 1.22839829642616238 0.97907400908834741\\nH  1.42098037762783447 -0.66223054543481941 -0.88988364893155880\\nH  0.99392447512202131 0.99230893192186254 -1.33391982865660097\\nH  3.57062230296258409 0.48975036445761194 1.60705527823956951\\nH  -1.47943951943820906 0.79509480850491066 -1.12888306388854454\\nH  -2.46073933847966941 -0.72445323360034763 1.13289340007362749\\nH  -3.33590940988359952 0.00199814419305342 0.04343638478765417\\n\",\"xyz\");\n",
       "\tviewergrid_17238552106064253[0][1].addLabel(\"Glutamate \\ud83e\\uddea \",{\"position\": {\"x\": 200.0, \"y\": 0, \"z\": 0}, \"alignment\": \"topCenter\", \"fontSize\": 24, \"backgroundOpacity\": 0, \"fontColor\": \"black\", \"useScreen\": true});\n",
       "\tviewergrid_17238552106064253[0][1].addLabel(\"Charge: -1 Multiplicity: 1 \",{\"position\": {\"x\": 200.0, \"y\": 300, \"z\": 0}, \"alignment\": \"bottomCenter\", \"fontSize\": 20, \"backgroundOpacity\": 0, \"fontColor\": \"black\", \"useScreen\": true});\n",
       "\tviewergrid_17238552106064253[0][0].setStyle({\"stick\": {}, \"sphere\": {\"scale\": 0.3}});\n",
       "\tviewergrid_17238552106064253[0][1].setStyle({\"stick\": {}, \"sphere\": {\"scale\": 0.3}});\n",
       "\tviewergrid_17238552106064253[0][0].zoomTo();\n",
       "\tviewergrid_17238552106064253[0][1].zoomTo();\n",
       "viewergrid_17238552106064253[0][1].render();\n",
       "viewergrid_17238552106064253[0][0].render();\n",
       "});\n",
       "</script></div>"
      ],
      "text/plain": [
       "<IPython.core.display.HTML object>"
      ]
     },
     "metadata": {},
     "output_type": "display_data"
    }
   ],
   "source": [
    "epinephrine = Structure.from_smiles(\"CNC[C@H](O)c1ccc(O)c(O)c1\")\n",
    "glutamate = Structure.from_smiles(\"C(CC(=O)O)[C@@H](C(=O)[O-])N\")\n",
    "view.view(\n",
    "    epinephrine,\n",
    "    glutamate,\n",
    "    titles=[\"Good morning ☀️\", \"Glutamate 🧪\"],\n",
    "    subtitles=[\"\", f\"Charge: {glutamate.charge} Multiplicity: {glutamate.multiplicity}\"],\n",
    ")"
   ]
  }
 ],
 "metadata": {
  "kernelspec": {
   "display_name": "Python 3 (ipykernel)",
   "language": "python",
   "name": "python3"
  },
  "language_info": {
   "codemirror_mode": {
    "name": "ipython",
    "version": 3
   },
   "file_extension": ".py",
   "mimetype": "text/x-python",
   "name": "python",
   "nbconvert_exporter": "python",
   "pygments_lexer": "ipython3",
   "version": "3.8.16"
  }
 },
 "nbformat": 4,
 "nbformat_minor": 5
}
