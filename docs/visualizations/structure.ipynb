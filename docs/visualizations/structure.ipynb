{
 "cells": [
  {
   "cell_type": "markdown",
   "id": "5dba1f4f",
   "metadata": {},
   "source": [
    "## Easily view and interact with any structure"
   ]
  },
  {
   "cell_type": "code",
   "execution_count": 4,
   "id": "c35d715d-a6ea-415b-b357-ca03a593c7dc",
   "metadata": {},
   "outputs": [],
   "source": [
    "from qcio import Structure, view\n",
    "\n",
    "# Defaults changed just to fit within narrow documentation layout\n",
    "view.DEFAULT_WIDTH = 400\n",
    "view.DEFAULT_HEIGHT = 300"
   ]
  },
  {
   "cell_type": "code",
   "execution_count": 5,
   "id": "532efe5b-3cef-413e-9f76-b0b646921be2",
   "metadata": {},
   "outputs": [
    {
     "data": {
      "text/html": [
       "<div style=\"display: flex; flex-wrap: wrap; justify-content: center;\"><div id=\"3dmolviewer_17398379557012856\"  style=\"position: relative; width: 400px; height: 300px;\">\n",
       "        <p id=\"3dmolwarning_17398379557012856\" style=\"background-color:#ffcccc;color:black\">3Dmol.js failed to load for some reason.  Please check your browser console for error messages.<br></p>\n",
       "        </div>\n",
       "<script>\n",
       "\n",
       "var loadScriptAsync = function(uri){\n",
       "  return new Promise((resolve, reject) => {\n",
       "    //this is to ignore the existence of requirejs amd\n",
       "    var savedexports, savedmodule;\n",
       "    if (typeof exports !== 'undefined') savedexports = exports;\n",
       "    else exports = {}\n",
       "    if (typeof module !== 'undefined') savedmodule = module;\n",
       "    else module = {}\n",
       "\n",
       "    var tag = document.createElement('script');\n",
       "    tag.src = uri;\n",
       "    tag.async = true;\n",
       "    tag.onload = () => {\n",
       "        exports = savedexports;\n",
       "        module = savedmodule;\n",
       "        resolve();\n",
       "    };\n",
       "  var firstScriptTag = document.getElementsByTagName('script')[0];\n",
       "  firstScriptTag.parentNode.insertBefore(tag, firstScriptTag);\n",
       "});\n",
       "};\n",
       "\n",
       "if(typeof $3Dmolpromise === 'undefined') {\n",
       "$3Dmolpromise = null;\n",
       "  $3Dmolpromise = loadScriptAsync('https://cdnjs.cloudflare.com/ajax/libs/3Dmol/2.4.2/3Dmol-min.js');\n",
       "}\n",
       "\n",
       "var viewer_17398379557012856 = null;\n",
       "var warn = document.getElementById(\"3dmolwarning_17398379557012856\");\n",
       "if(warn) {\n",
       "    warn.parentNode.removeChild(warn);\n",
       "}\n",
       "$3Dmolpromise.then(function() {\n",
       "var viewergrid_17398379557012856 = null;\n",
       "viewergrid_17398379557012856 = $3Dmol.createViewerGrid(document.getElementById(\"3dmolviewer_17398379557012856\"),{rows: 1, cols: 1, control_all: true},{backgroundColor:\"white\"});\n",
       "viewer_17398379557012856 = viewergrid_17398379557012856[0][0];\n",
       "viewergrid_17398379557012856[0][0].zoomTo();\tviewergrid_17398379557012856[0][0].addModel(\"24\\nqcio_charge=0 qcio_multiplicity=1 qcio__identifiers_smiles=CN1C=NC2=C1C(=O)N(C(=O)N2C)C qcio__identifiers_canonical_smiles=Cn1c(=O)c2c(ncn2C)n(C)c1=O qcio__identifiers_canonical_smiles_program=rdkit\\nC  3.27058816309630274 0.60109610699795946 -0.22253241806615684\\nN  2.12528296563460639 -0.27174599042740266 -0.27198046303875856\\nC  2.14352186056434668 -1.61654573211534736 -0.53248317082983543\\nN  0.93088627640153676 -2.13328513943591958 -0.50648948816001382\\nC  0.11888017683797696 -1.07788971498306707 -0.21957874358919960\\nC  0.82137569014618550 0.07905295464060573 -0.06971485084675914\\nC  0.21204804108022551 1.32666204616471850 0.23320715524152713\\nO  0.85453513740279430 2.36398174478888778 0.36627161299603017\\nN  -1.17717187423064695 1.23391404498828394 0.35899354825707452\\nC  -1.93980629387840220 0.05613418082710030 0.21134060472684330\\nO  -3.16747875550366365 0.07509255581832507 0.34190959538824967\\nN  -1.24780059878631100 -1.11838136216192541 -0.08607240237761707\\nC  -1.95800175542193933 -2.37302607629393369 -0.25392787633051223\\nC  -1.91718786277366893 2.44176276560118710 0.66778074004310706\\nH  4.17689665064978133 0.02527766029312227 -0.42696960000316153\\nH  3.14911946738331583 1.37811250974020871 -0.98130901711125551\\nH  3.33084587411985877 1.04008036444958574 0.77642352150087524\\nH  3.05563556979344941 -2.16499856865378648 -0.73225383748482653\\nH  -1.59172961071887942 -3.09258778559276326 0.48519560980181869\\nH  -3.03611135546146382 -2.25284123845355655 -0.11935788832522644\\nH  -1.77238321918398323 -2.75654366631312220 -1.26223719871681528\\nH  -2.46555959499632893 2.29294597682665824 1.60386169039408366\\nH  -2.64478142116512771 2.62628009520821681 -0.12950647310348221\\nH  -1.27160353098984968 3.31745226808628102 0.76942934963399601\\n\",\"xyz\");\n",
       "\tviewergrid_17398379557012856[0][0].addLabel(\"CN1C=NC2=C1C(=O)N(C(=O)N2C)C \",{\"position\": {\"x\": 200.0, \"y\": 0, \"z\": 0}, \"alignment\": \"topCenter\", \"fontSize\": 24, \"backgroundOpacity\": 0, \"fontColor\": \"black\", \"useScreen\": true});\n",
       "\tviewergrid_17398379557012856[0][0].addLabel(\" \",{\"position\": {\"x\": 200.0, \"y\": 300, \"z\": 0}, \"alignment\": \"bottomCenter\", \"fontSize\": 20, \"backgroundOpacity\": 0, \"fontColor\": \"black\", \"useScreen\": true});\n",
       "\tviewergrid_17398379557012856[0][0].setStyle({\"stick\": {}, \"sphere\": {\"scale\": 0.3}});\n",
       "\tviewergrid_17398379557012856[0][0].zoomTo();\n",
       "viewergrid_17398379557012856[0][0].render();\n",
       "});\n",
       "</script></div>"
      ],
      "text/plain": [
       "<IPython.core.display.HTML object>"
      ]
     },
     "metadata": {},
     "output_type": "display_data"
    }
   ],
   "source": [
    "caffeine = Structure.from_smiles('CN1C=NC2=C1C(=O)N(C(=O)N2C)C')\n",
    "view.view(caffeine)"
   ]
  },
  {
   "cell_type": "markdown",
   "id": "f8ddf299",
   "metadata": {},
   "source": [
    "## Pass any number of objects (of any type) to view"
   ]
  },
  {
   "cell_type": "code",
   "execution_count": 3,
   "id": "9307a001",
   "metadata": {},
   "outputs": [
    {
     "data": {
      "text/html": [
       "<div style=\"display: flex; flex-wrap: wrap; justify-content: center;\"><div id=\"3dmolviewer_17238552105552895\"  style=\"position: relative; width: 800px; height: 300px;\">\n",
       "        <p id=\"3dmolwarning_17238552105552895\" style=\"background-color:#ffcccc;color:black\">3Dmol.js failed to load for some reason.  Please check your browser console for error messages.<br></p>\n",
       "        </div>\n",
       "<script>\n",
       "\n",
       "var loadScriptAsync = function(uri){\n",
       "  return new Promise((resolve, reject) => {\n",
       "    //this is to ignore the existence of requirejs amd\n",
       "    var savedexports, savedmodule;\n",
       "    if (typeof exports !== 'undefined') savedexports = exports;\n",
       "    else exports = {}\n",
       "    if (typeof module !== 'undefined') savedmodule = module;\n",
       "    else module = {}\n",
       "\n",
       "    var tag = document.createElement('script');\n",
       "    tag.src = uri;\n",
       "    tag.async = true;\n",
       "    tag.onload = () => {\n",
       "        exports = savedexports;\n",
       "        module = savedmodule;\n",
       "        resolve();\n",
       "    };\n",
       "  var firstScriptTag = document.getElementsByTagName('script')[0];\n",
       "  firstScriptTag.parentNode.insertBefore(tag, firstScriptTag);\n",
       "});\n",
       "};\n",
       "\n",
       "if(typeof $3Dmolpromise === 'undefined') {\n",
       "$3Dmolpromise = null;\n",
       "  $3Dmolpromise = loadScriptAsync('https://cdnjs.cloudflare.com/ajax/libs/3Dmol/2.2.1-post1/3Dmol-min.js');\n",
       "}\n",
       "\n",
       "var viewer_17238552105552895 = null;\n",
       "var warn = document.getElementById(\"3dmolwarning_17238552105552895\");\n",
       "if(warn) {\n",
       "    warn.parentNode.removeChild(warn);\n",
       "}\n",
       "$3Dmolpromise.then(function() {\n",
       "var viewergrid_17238552105552895 = null;\n",
       "viewergrid_17238552105552895 = $3Dmol.createViewerGrid(document.getElementById(\"3dmolviewer_17238552105552895\"),{rows: 1, cols: 2, control_all: false},{backgroundColor:\"white\"});\n",
       "viewer_17238552105552895 = viewergrid_17238552105552895[0][0];\n",
       "viewergrid_17238552105552895[0][0].zoomTo();viewergrid_17238552105552895[0][1].zoomTo();\tviewergrid_17238552105552895[0][0].addModel(\"25\\nqcio_charge=0 qcio_multiplicity=1 qcio__identifiers_smiles=C1=CC2=C(C=C1O)C(=CN2)CCN qcio__identifiers_canonical_smiles=NCCc1c[nH]c2ccc(O)cc12 qcio__identifiers_canonical_smiles_program=rdkit\\nC  2.80662837943892596 0.19461624510125644 1.62644004594558789\\nC  2.18671738713131081 -1.04739462810659001 1.78559406544228305\\nC  1.04205221631035050 -1.30371588331231392 1.01976405293294148\\nC  0.51135558434941475 -0.38099887062730470 0.11625514708800186\\nC  1.15528315276037841 0.86637271442856167 -0.02525252446684082\\nC  2.29336987732469488 1.13099264862406690 0.73973086890098005\\nO  2.94019505341360654 2.33042463772491804 0.64072408820936022\\nC  -0.64248928597900123 -0.98139451755059748 -0.48590882876610791\\nC  -0.77415410236114401 -2.23828935762225933 0.07514506173286904\\nN  0.23947356255826094 -2.41856452406281708 0.97631545313932067\\nC  -1.53584322201008616 -0.38941800438644519 -1.53453994105079805\\nC  -2.55261258637334310 0.62389585158003458 -0.98757820497747850\\nN  -2.03784623404194587 1.99659435506692651 -0.95736744415048758\\nH  3.69504497676978971 0.43297752545155627 2.20497726891362067\\nH  2.58244102558036603 -1.77972645463350809 2.48100386493334835\\nH  0.75377724819234682 1.60007920276663640 -0.71439409236891127\\nH  2.42717931676543630 2.89619196027562076 0.04027652711009141\\nH  -1.50211112477823416 -3.02022181334629458 -0.09489126075898915\\nH  0.38600652411385267 -3.24987117750598165 1.53133884665722397\\nH  -0.92963077628609858 0.05707205393057579 -2.33283807432805279\\nH  -2.09467533618915525 -1.20723015268739697 -2.00932783141162341\\nH  -2.88582840927973061 0.34008317783131742 0.01697273380365259\\nH  -3.43672981497666674 0.62051368655550287 -1.63562243768870519\\nH  -1.87522970904775632 2.31753693807875072 -1.91053679716472602\\nH  -2.75237370338658005 2.60947438642610452 -0.56628058767652500\\n\",\"xyz\");\n",
       "\tviewergrid_17238552105552895[0][0].addLabel(\"C1=CC2=C(C=C1O)C(=CN2)CCN \",{\"position\": {\"x\": 200.0, \"y\": 0, \"z\": 0}, \"alignment\": \"topCenter\", \"fontSize\": 24, \"backgroundOpacity\": 0, \"fontColor\": \"black\", \"useScreen\": true});\n",
       "\tviewergrid_17238552105552895[0][0].addLabel(\" \",{\"position\": {\"x\": 200.0, \"y\": 300, \"z\": 0}, \"alignment\": \"bottomCenter\", \"fontSize\": 20, \"backgroundOpacity\": 0, \"fontColor\": \"black\", \"useScreen\": true});\n",
       "\tviewergrid_17238552105552895[0][1].addModel(\"22\\nqcio_charge=0 qcio_multiplicity=1 qcio__identifiers_smiles=NCCc1cc(O)c(O)cc1 qcio__identifiers_canonical_smiles=NCCc1ccc(O)c(O)c1 qcio__identifiers_canonical_smiles_program=rdkit\\nN  -3.82831747238149411 0.47797332750282095 0.01557447593432387\\nC  -2.44674839009917244 0.29824270330147828 0.46007480321415595\\nC  -1.52880033545415484 -0.05563548727794237 -0.71454775657072400\\nC  -0.09796828627024931 -0.23799898591558089 -0.26762190827144189\\nC  0.78504240481459764 0.85189771715028473 -0.25193925437347586\\nC  2.09451440396264932 0.66832214640712939 0.17205335000858096\\nO  2.96010598303404127 1.72266094692922955 0.11710946822371407\\nC  2.52773316430253425 -0.57657842472618315 0.61755030715260861\\nO  3.79030556489432247 -0.73455878561961718 1.11146772189513365\\nC  1.67273080040658995 -1.66802681757307858 0.59760341369749626\\nC  0.35783253729462089 -1.49806038997911073 0.15693275419270553\\nH  -4.40489466202813951 0.73725422629241977 0.81557357253781837\\nH  -3.87864135414258637 1.26170786257199774 -0.63454846411673349\\nH  -2.41980660609490750 -0.49757616273153082 1.21313769218607792\\nH  -2.10477651018549006 1.21810035735981526 0.94861016814279753\\nH  -1.57120839716960137 0.72925341488762829 -1.48105122838296621\\nH  -1.87565617658815365 -0.97446770548190109 -1.20519382390179808\\nH  0.46217962862540890 1.83450272373461098 -0.58477475867416895\\nH  3.81313081254230157 1.34944717949571857 -0.17258231972863564\\nH  3.99137606415011925 0.08721044955844016 1.59586279009137133\\nH  2.01656187383775398 -2.63990545674299470 0.93837385160721420\\nH  -0.31469504745108745 -2.35376483914379797 0.15270025171143120\\n\",\"xyz\");\n",
       "\tviewergrid_17238552105552895[0][1].addLabel(\"NCCc1cc(O)c(O)cc1 \",{\"position\": {\"x\": 200.0, \"y\": 0, \"z\": 0}, \"alignment\": \"topCenter\", \"fontSize\": 24, \"backgroundOpacity\": 0, \"fontColor\": \"black\", \"useScreen\": true});\n",
       "\tviewergrid_17238552105552895[0][1].addLabel(\" \",{\"position\": {\"x\": 200.0, \"y\": 300, \"z\": 0}, \"alignment\": \"bottomCenter\", \"fontSize\": 20, \"backgroundOpacity\": 0, \"fontColor\": \"black\", \"useScreen\": true});\n",
       "\tviewergrid_17238552105552895[0][0].setStyle({\"stick\": {}, \"sphere\": {\"scale\": 0.3}});\n",
       "\tviewergrid_17238552105552895[0][1].setStyle({\"stick\": {}, \"sphere\": {\"scale\": 0.3}});\n",
       "\tviewergrid_17238552105552895[0][0].zoomTo();\n",
       "\tviewergrid_17238552105552895[0][1].zoomTo();\n",
       "viewergrid_17238552105552895[0][1].render();\n",
       "viewergrid_17238552105552895[0][0].render();\n",
       "});\n",
       "</script></div>"
      ],
      "text/plain": [
       "<IPython.core.display.HTML object>"
      ]
     },
     "metadata": {},
     "output_type": "display_data"
    }
   ],
   "source": [
    "serotonin = Structure.from_smiles(\"C1=CC2=C(C=C1O)C(=CN2)CCN\")\n",
    "dopamine = Structure.from_smiles(\"NCCc1cc(O)c(O)cc1\")\n",
    "view.view(serotonin, dopamine)"
   ]
  },
  {
   "cell_type": "markdown",
   "id": "c7a345d1",
   "metadata": {},
   "source": [
    "## Titles are generated automatically from identifier information"
   ]
  },
  {
   "cell_type": "code",
   "execution_count": 4,
   "id": "51f329f7",
   "metadata": {},
   "outputs": [
    {
     "data": {
      "text/html": [
       "<div style=\"display: flex; flex-wrap: wrap; justify-content: center;\"><div id=\"3dmolviewer_1723855210561661\"  style=\"position: relative; width: 800px; height: 300px;\">\n",
       "        <p id=\"3dmolwarning_1723855210561661\" style=\"background-color:#ffcccc;color:black\">3Dmol.js failed to load for some reason.  Please check your browser console for error messages.<br></p>\n",
       "        </div>\n",
       "<script>\n",
       "\n",
       "var loadScriptAsync = function(uri){\n",
       "  return new Promise((resolve, reject) => {\n",
       "    //this is to ignore the existence of requirejs amd\n",
       "    var savedexports, savedmodule;\n",
       "    if (typeof exports !== 'undefined') savedexports = exports;\n",
       "    else exports = {}\n",
       "    if (typeof module !== 'undefined') savedmodule = module;\n",
       "    else module = {}\n",
       "\n",
       "    var tag = document.createElement('script');\n",
       "    tag.src = uri;\n",
       "    tag.async = true;\n",
       "    tag.onload = () => {\n",
       "        exports = savedexports;\n",
       "        module = savedmodule;\n",
       "        resolve();\n",
       "    };\n",
       "  var firstScriptTag = document.getElementsByTagName('script')[0];\n",
       "  firstScriptTag.parentNode.insertBefore(tag, firstScriptTag);\n",
       "});\n",
       "};\n",
       "\n",
       "if(typeof $3Dmolpromise === 'undefined') {\n",
       "$3Dmolpromise = null;\n",
       "  $3Dmolpromise = loadScriptAsync('https://cdnjs.cloudflare.com/ajax/libs/3Dmol/2.2.1-post1/3Dmol-min.js');\n",
       "}\n",
       "\n",
       "var viewer_1723855210561661 = null;\n",
       "var warn = document.getElementById(\"3dmolwarning_1723855210561661\");\n",
       "if(warn) {\n",
       "    warn.parentNode.removeChild(warn);\n",
       "}\n",
       "$3Dmolpromise.then(function() {\n",
       "var viewergrid_1723855210561661 = null;\n",
       "viewergrid_1723855210561661 = $3Dmol.createViewerGrid(document.getElementById(\"3dmolviewer_1723855210561661\"),{rows: 1, cols: 2, control_all: false},{backgroundColor:\"white\"});\n",
       "viewer_1723855210561661 = viewergrid_1723855210561661[0][0];\n",
       "viewergrid_1723855210561661[0][0].zoomTo();viewergrid_1723855210561661[0][1].zoomTo();\tviewergrid_1723855210561661[0][0].addModel(\"25\\nqcio_charge=0 qcio_multiplicity=1 qcio__identifiers_name=Serotonin qcio__identifiers_smiles=C1=CC2=C(C=C1O)C(=CN2)CCN qcio__identifiers_canonical_smiles=NCCc1c[nH]c2ccc(O)cc12 qcio__identifiers_canonical_smiles_program=rdkit\\nC  2.80662837943892596 0.19461624510125644 1.62644004594558789\\nC  2.18671738713131081 -1.04739462810659001 1.78559406544228305\\nC  1.04205221631035050 -1.30371588331231392 1.01976405293294148\\nC  0.51135558434941475 -0.38099887062730470 0.11625514708800186\\nC  1.15528315276037841 0.86637271442856167 -0.02525252446684082\\nC  2.29336987732469488 1.13099264862406690 0.73973086890098005\\nO  2.94019505341360654 2.33042463772491804 0.64072408820936022\\nC  -0.64248928597900123 -0.98139451755059748 -0.48590882876610791\\nC  -0.77415410236114401 -2.23828935762225933 0.07514506173286904\\nN  0.23947356255826094 -2.41856452406281708 0.97631545313932067\\nC  -1.53584322201008616 -0.38941800438644519 -1.53453994105079805\\nC  -2.55261258637334310 0.62389585158003458 -0.98757820497747850\\nN  -2.03784623404194587 1.99659435506692651 -0.95736744415048758\\nH  3.69504497676978971 0.43297752545155627 2.20497726891362067\\nH  2.58244102558036603 -1.77972645463350809 2.48100386493334835\\nH  0.75377724819234682 1.60007920276663640 -0.71439409236891127\\nH  2.42717931676543630 2.89619196027562076 0.04027652711009141\\nH  -1.50211112477823416 -3.02022181334629458 -0.09489126075898915\\nH  0.38600652411385267 -3.24987117750598165 1.53133884665722397\\nH  -0.92963077628609858 0.05707205393057579 -2.33283807432805279\\nH  -2.09467533618915525 -1.20723015268739697 -2.00932783141162341\\nH  -2.88582840927973061 0.34008317783131742 0.01697273380365259\\nH  -3.43672981497666674 0.62051368655550287 -1.63562243768870519\\nH  -1.87522970904775632 2.31753693807875072 -1.91053679716472602\\nH  -2.75237370338658005 2.60947438642610452 -0.56628058767652500\\n\",\"xyz\");\n",
       "\tviewergrid_1723855210561661[0][0].addLabel(\"Serotonin \",{\"position\": {\"x\": 200.0, \"y\": 0, \"z\": 0}, \"alignment\": \"topCenter\", \"fontSize\": 24, \"backgroundOpacity\": 0, \"fontColor\": \"black\", \"useScreen\": true});\n",
       "\tviewergrid_1723855210561661[0][0].addLabel(\" \",{\"position\": {\"x\": 200.0, \"y\": 300, \"z\": 0}, \"alignment\": \"bottomCenter\", \"fontSize\": 20, \"backgroundOpacity\": 0, \"fontColor\": \"black\", \"useScreen\": true});\n",
       "\tviewergrid_1723855210561661[0][1].addModel(\"22\\nqcio_charge=0 qcio_multiplicity=1 qcio__identifiers_name=Dopamine qcio__identifiers_smiles=NCCc1cc(O)c(O)cc1 qcio__identifiers_canonical_smiles=NCCc1ccc(O)c(O)c1 qcio__identifiers_canonical_smiles_program=rdkit\\nN  -3.82831747238149411 0.47797332750282095 0.01557447593432387\\nC  -2.44674839009917244 0.29824270330147828 0.46007480321415595\\nC  -1.52880033545415484 -0.05563548727794237 -0.71454775657072400\\nC  -0.09796828627024931 -0.23799898591558089 -0.26762190827144189\\nC  0.78504240481459764 0.85189771715028473 -0.25193925437347586\\nC  2.09451440396264932 0.66832214640712939 0.17205335000858096\\nO  2.96010598303404127 1.72266094692922955 0.11710946822371407\\nC  2.52773316430253425 -0.57657842472618315 0.61755030715260861\\nO  3.79030556489432247 -0.73455878561961718 1.11146772189513365\\nC  1.67273080040658995 -1.66802681757307858 0.59760341369749626\\nC  0.35783253729462089 -1.49806038997911073 0.15693275419270553\\nH  -4.40489466202813951 0.73725422629241977 0.81557357253781837\\nH  -3.87864135414258637 1.26170786257199774 -0.63454846411673349\\nH  -2.41980660609490750 -0.49757616273153082 1.21313769218607792\\nH  -2.10477651018549006 1.21810035735981526 0.94861016814279753\\nH  -1.57120839716960137 0.72925341488762829 -1.48105122838296621\\nH  -1.87565617658815365 -0.97446770548190109 -1.20519382390179808\\nH  0.46217962862540890 1.83450272373461098 -0.58477475867416895\\nH  3.81313081254230157 1.34944717949571857 -0.17258231972863564\\nH  3.99137606415011925 0.08721044955844016 1.59586279009137133\\nH  2.01656187383775398 -2.63990545674299470 0.93837385160721420\\nH  -0.31469504745108745 -2.35376483914379797 0.15270025171143120\\n\",\"xyz\");\n",
       "\tviewergrid_1723855210561661[0][1].addLabel(\"Dopamine \",{\"position\": {\"x\": 200.0, \"y\": 0, \"z\": 0}, \"alignment\": \"topCenter\", \"fontSize\": 24, \"backgroundOpacity\": 0, \"fontColor\": \"black\", \"useScreen\": true});\n",
       "\tviewergrid_1723855210561661[0][1].addLabel(\" \",{\"position\": {\"x\": 200.0, \"y\": 300, \"z\": 0}, \"alignment\": \"bottomCenter\", \"fontSize\": 20, \"backgroundOpacity\": 0, \"fontColor\": \"black\", \"useScreen\": true});\n",
       "\tviewergrid_1723855210561661[0][0].setStyle({\"stick\": {}, \"sphere\": {\"scale\": 0.3}});\n",
       "\tviewergrid_1723855210561661[0][1].setStyle({\"stick\": {}, \"sphere\": {\"scale\": 0.3}});\n",
       "\tviewergrid_1723855210561661[0][0].zoomTo();\n",
       "\tviewergrid_1723855210561661[0][1].zoomTo();\n",
       "viewergrid_1723855210561661[0][1].render();\n",
       "viewergrid_1723855210561661[0][0].render();\n",
       "});\n",
       "</script></div>"
      ],
      "text/plain": [
       "<IPython.core.display.HTML object>"
      ]
     },
     "metadata": {},
     "output_type": "display_data"
    }
   ],
   "source": [
    "serotonin.add_identifiers({\"name\": \"Serotonin\"})\n",
    "dopamine.add_identifiers({\"name\": \"Dopamine\"})\n",
    "view.view(serotonin, dopamine)"
   ]
  },
  {
   "cell_type": "markdown",
   "id": "800735ca",
   "metadata": {},
   "source": [
    "## Or manually add titles or subtitles"
   ]
  },
  {
   "cell_type": "code",
   "execution_count": 9,
   "id": "abc15425",
   "metadata": {},
   "outputs": [
    {
     "data": {
      "text/html": [
       "<div style=\"display: flex; flex-wrap: wrap; justify-content: center;\"><div id=\"3dmolviewer_1739837982664772\"  style=\"position: relative; width: 800px; height: 300px;\">\n",
       "        <p id=\"3dmolwarning_1739837982664772\" style=\"background-color:#ffcccc;color:black\">3Dmol.js failed to load for some reason.  Please check your browser console for error messages.<br></p>\n",
       "        </div>\n",
       "<script>\n",
       "\n",
       "var loadScriptAsync = function(uri){\n",
       "  return new Promise((resolve, reject) => {\n",
       "    //this is to ignore the existence of requirejs amd\n",
       "    var savedexports, savedmodule;\n",
       "    if (typeof exports !== 'undefined') savedexports = exports;\n",
       "    else exports = {}\n",
       "    if (typeof module !== 'undefined') savedmodule = module;\n",
       "    else module = {}\n",
       "\n",
       "    var tag = document.createElement('script');\n",
       "    tag.src = uri;\n",
       "    tag.async = true;\n",
       "    tag.onload = () => {\n",
       "        exports = savedexports;\n",
       "        module = savedmodule;\n",
       "        resolve();\n",
       "    };\n",
       "  var firstScriptTag = document.getElementsByTagName('script')[0];\n",
       "  firstScriptTag.parentNode.insertBefore(tag, firstScriptTag);\n",
       "});\n",
       "};\n",
       "\n",
       "if(typeof $3Dmolpromise === 'undefined') {\n",
       "$3Dmolpromise = null;\n",
       "  $3Dmolpromise = loadScriptAsync('https://cdnjs.cloudflare.com/ajax/libs/3Dmol/2.4.2/3Dmol-min.js');\n",
       "}\n",
       "\n",
       "var viewer_1739837982664772 = null;\n",
       "var warn = document.getElementById(\"3dmolwarning_1739837982664772\");\n",
       "if(warn) {\n",
       "    warn.parentNode.removeChild(warn);\n",
       "}\n",
       "$3Dmolpromise.then(function() {\n",
       "var viewergrid_1739837982664772 = null;\n",
       "viewergrid_1739837982664772 = $3Dmol.createViewerGrid(document.getElementById(\"3dmolviewer_1739837982664772\"),{rows: 1, cols: 2, control_all: false},{backgroundColor:\"white\"});\n",
       "viewer_1739837982664772 = viewergrid_1739837982664772[0][0];\n",
       "viewergrid_1739837982664772[0][0].zoomTo();viewergrid_1739837982664772[0][1].zoomTo();\tviewergrid_1739837982664772[0][0].addModel(\"26\\nqcio_charge=0 qcio_multiplicity=1 qcio__identifiers_smiles=CNC[C@H](O)c1ccc(O)c(O)c1 qcio__identifiers_canonical_smiles=CNC[C@H](O)c1ccc(O)c(O)c1 qcio__identifiers_canonical_smiles_program=rdkit\\nC  3.73927170151424448 1.20843901074132276 -0.37281840877081240\\nN  3.34237634011471885 -0.12356056161574508 0.05755978062356290\\nC  1.94165908569958345 -0.43306791535614803 -0.28530576798387813\\nC  0.89689237650495279 0.28714854346442376 0.60438984089153258\\nO  1.19346691712578057 0.04225885056740579 1.98549180222824040\\nC  -0.52342036563916694 -0.14319345500040306 0.29302006877356779\\nC  -0.97429595141738723 -1.43430708979455313 0.63064246059813978\\nC  -2.28116945327332710 -1.83310769557481223 0.34396791957561673\\nC  -3.13749098460630682 -0.94208830167755564 -0.28243096418979696\\nO  -4.41571377403386744 -1.33122112994176778 -0.56247421378907136\\nC  -2.70812684212081045 0.33646707703719192 -0.62660612618436784\\nO  -3.60691400995144695 1.16185881007613712 -1.24447709250534833\\nC  -1.40776086630236130 0.74423303701500743 -0.34487906212556502\\nH  4.79670388060256592 1.36377396777734661 -0.13679916128721870\\nH  3.16969652396560075 1.99269227830732354 0.13428683756604903\\nH  3.62507083848816647 1.32541940155132942 -1.45524305050375680\\nH  3.41637831662301883 -0.17877796252304309 1.07833662245728434\\nH  1.75082216346380615 -0.23637534315038780 -1.34754509489640384\\nH  1.83553185205859637 -1.51654390117308902 -0.15047584708577236\\nH  0.97986436069195693 1.37069407885322403 0.46385876033668649\\nH  0.35689268189460183 0.11039431773894248 2.47745990623749446\\nH  -0.30366713528169986 -2.13830381288934968 1.12190168489634567\\nH  -2.62597520000327211 -2.82899609159295551 0.60557205102931233\\nH  -4.81883292234630112 -0.55441111545703015 -0.99857458811882482\\nH  -3.16719572441693753 2.00868165909874952 -1.43182279133150248\\nH  -1.07406380935427181 1.74189334351849268 -0.61500701420164128\\n\",\"xyz\");\n",
       "\tviewergrid_1739837982664772[0][0].addLabel(\"Good morning \\u2600\\ufe0f \",{\"position\": {\"x\": 200.0, \"y\": 0, \"z\": 0}, \"alignment\": \"topCenter\", \"fontSize\": 24, \"backgroundOpacity\": 0, \"fontColor\": \"black\", \"useScreen\": true});\n",
       "\tviewergrid_1739837982664772[0][0].addLabel(\" \",{\"position\": {\"x\": 200.0, \"y\": 300, \"z\": 0}, \"alignment\": \"bottomCenter\", \"fontSize\": 20, \"backgroundOpacity\": 0, \"fontColor\": \"black\", \"useScreen\": true});\n",
       "\tviewergrid_1739837982664772[0][1].addModel(\"18\\nqcio_charge=-1 qcio_multiplicity=1 qcio__identifiers_smiles=C(CC(=O)O)[C@@H](C(=O)[O-])N qcio__identifiers_canonical_smiles=N[C@@H](CCC(=O)O)C(=O)[O-] qcio__identifiers_canonical_smiles_program=rdkit\\nC  0.10153856257511122 0.31111637799946035 0.36501451972647281\\nC  1.15071235067778654 -0.03651556319030587 -0.68785084458767254\\nC  2.09009466612069295 1.10975326833482613 -0.92161123107485055\\nO  3.29706703481421792 1.10868642068641043 -0.73373806694160104\\nO  1.48708039389773550 2.20369560421860555 -1.42616620171855568\\nC  -0.75948929185881087 -0.88911854123625855 0.75799841651692523\\nC  -1.82557657396763351 -0.53657418366809906 1.87354577185506188\\nO  -1.48942933132030753 0.34774898245672220 2.70795521877713874\\nO  -2.90536083397776146 -1.20026615644983559 1.78383291384500908\\nN  -1.47963389781495769 -1.44608699733038359 -0.43611510633850809\\nH  -0.53691213467729348 1.12721249668945944 0.00139426798836988\\nH  0.61032898065258701 0.70547821178184666 1.25433676428391183\\nH  0.69777698580160086 -0.30652162716702575 -1.64779666524232549\\nH  1.74813022687916386 -0.89391524037943915 -0.35636910258224636\\nH  2.21186904146590058 2.85661879880955860 -1.48938181813524029\\nH  -0.12535242470385385 -1.68479852367773231 1.16678969263923360\\nH  -2.10333407619982671 -0.69639622302231741 -0.74733293396676082\\nH  -2.16950967836495412 -2.08011710485771673 0.00357676072818436\\n\",\"xyz\");\n",
       "\tviewergrid_1739837982664772[0][1].addLabel(\"Glutamate \\ud83e\\uddea \",{\"position\": {\"x\": 200.0, \"y\": 0, \"z\": 0}, \"alignment\": \"topCenter\", \"fontSize\": 24, \"backgroundOpacity\": 0, \"fontColor\": \"black\", \"useScreen\": true});\n",
       "\tviewergrid_1739837982664772[0][1].addLabel(\"Charge: -1 Multiplicity: 1 \",{\"position\": {\"x\": 200.0, \"y\": 300, \"z\": 0}, \"alignment\": \"bottomCenter\", \"fontSize\": 20, \"backgroundOpacity\": 0, \"fontColor\": \"black\", \"useScreen\": true});\n",
       "\tviewergrid_1739837982664772[0][0].setStyle({\"stick\": {}, \"sphere\": {\"scale\": 0.3}});\n",
       "\tviewergrid_1739837982664772[0][1].setStyle({\"stick\": {}, \"sphere\": {\"scale\": 0.3}});\n",
       "\tviewergrid_1739837982664772[0][0].zoomTo();\n",
       "\tviewergrid_1739837982664772[0][1].zoomTo();\n",
       "viewergrid_1739837982664772[0][1].render();\n",
       "viewergrid_1739837982664772[0][0].render();\n",
       "});\n",
       "</script></div>"
      ],
      "text/plain": [
       "<IPython.core.display.HTML object>"
      ]
     },
     "metadata": {},
     "output_type": "display_data"
    }
   ],
   "source": [
    "epinephrine = Structure.from_smiles(\"CNC[C@H](O)c1ccc(O)c(O)c1\")\n",
    "glutamate = Structure.from_smiles(\"C(CC(=O)O)[C@@H](C(=O)[O-])N\")\n",
    "view.view(\n",
    "    epinephrine,\n",
    "    glutamate,\n",
    "    titles=[\"Good morning ☀️\", \"Glutamate 🧪\"],\n",
    "    subtitles=[\"\", f\"Charge: {glutamate.charge} Multiplicity: {glutamate.multiplicity}\"],\n",
    ")"
   ]
  },
  {
   "cell_type": "markdown",
   "id": "1d377352",
   "metadata": {},
   "source": [
    "## Show Atom Indices (Zero Indexed)"
   ]
  },
  {
   "cell_type": "code",
   "execution_count": 22,
   "id": "834faa4c",
   "metadata": {},
   "outputs": [
    {
     "data": {
      "text/html": [
       "<div style=\"display: flex; flex-wrap: wrap; justify-content: center;\"><div id=\"3dmolviewer_1739838166973903\"  style=\"position: relative; width: 400px; height: 300px;\">\n",
       "        <p id=\"3dmolwarning_1739838166973903\" style=\"background-color:#ffcccc;color:black\">3Dmol.js failed to load for some reason.  Please check your browser console for error messages.<br></p>\n",
       "        </div>\n",
       "<script>\n",
       "\n",
       "var loadScriptAsync = function(uri){\n",
       "  return new Promise((resolve, reject) => {\n",
       "    //this is to ignore the existence of requirejs amd\n",
       "    var savedexports, savedmodule;\n",
       "    if (typeof exports !== 'undefined') savedexports = exports;\n",
       "    else exports = {}\n",
       "    if (typeof module !== 'undefined') savedmodule = module;\n",
       "    else module = {}\n",
       "\n",
       "    var tag = document.createElement('script');\n",
       "    tag.src = uri;\n",
       "    tag.async = true;\n",
       "    tag.onload = () => {\n",
       "        exports = savedexports;\n",
       "        module = savedmodule;\n",
       "        resolve();\n",
       "    };\n",
       "  var firstScriptTag = document.getElementsByTagName('script')[0];\n",
       "  firstScriptTag.parentNode.insertBefore(tag, firstScriptTag);\n",
       "});\n",
       "};\n",
       "\n",
       "if(typeof $3Dmolpromise === 'undefined') {\n",
       "$3Dmolpromise = null;\n",
       "  $3Dmolpromise = loadScriptAsync('https://cdnjs.cloudflare.com/ajax/libs/3Dmol/2.4.2/3Dmol-min.js');\n",
       "}\n",
       "\n",
       "var viewer_1739838166973903 = null;\n",
       "var warn = document.getElementById(\"3dmolwarning_1739838166973903\");\n",
       "if(warn) {\n",
       "    warn.parentNode.removeChild(warn);\n",
       "}\n",
       "$3Dmolpromise.then(function() {\n",
       "var viewergrid_1739838166973903 = null;\n",
       "viewergrid_1739838166973903 = $3Dmol.createViewerGrid(document.getElementById(\"3dmolviewer_1739838166973903\"),{rows: 1, cols: 1, control_all: true},{backgroundColor:\"white\"});\n",
       "viewer_1739838166973903 = viewergrid_1739838166973903[0][0];\n",
       "viewergrid_1739838166973903[0][0].zoomTo();\tviewergrid_1739838166973903[0][0].addModel(\"26\\nqcio_charge=0 qcio_multiplicity=1 qcio__identifiers_smiles=CNC[C@H](O)c1ccc(O)c(O)c1 qcio__identifiers_canonical_smiles=CNC[C@H](O)c1ccc(O)c(O)c1 qcio__identifiers_canonical_smiles_program=rdkit\\nC  3.73927170151424448 1.20843901074132276 -0.37281840877081240\\nN  3.34237634011471885 -0.12356056161574508 0.05755978062356290\\nC  1.94165908569958345 -0.43306791535614803 -0.28530576798387813\\nC  0.89689237650495279 0.28714854346442376 0.60438984089153258\\nO  1.19346691712578057 0.04225885056740579 1.98549180222824040\\nC  -0.52342036563916694 -0.14319345500040306 0.29302006877356779\\nC  -0.97429595141738723 -1.43430708979455313 0.63064246059813978\\nC  -2.28116945327332710 -1.83310769557481223 0.34396791957561673\\nC  -3.13749098460630682 -0.94208830167755564 -0.28243096418979696\\nO  -4.41571377403386744 -1.33122112994176778 -0.56247421378907136\\nC  -2.70812684212081045 0.33646707703719192 -0.62660612618436784\\nO  -3.60691400995144695 1.16185881007613712 -1.24447709250534833\\nC  -1.40776086630236130 0.74423303701500743 -0.34487906212556502\\nH  4.79670388060256592 1.36377396777734661 -0.13679916128721870\\nH  3.16969652396560075 1.99269227830732354 0.13428683756604903\\nH  3.62507083848816647 1.32541940155132942 -1.45524305050375680\\nH  3.41637831662301883 -0.17877796252304309 1.07833662245728434\\nH  1.75082216346380615 -0.23637534315038780 -1.34754509489640384\\nH  1.83553185205859637 -1.51654390117308902 -0.15047584708577236\\nH  0.97986436069195693 1.37069407885322403 0.46385876033668649\\nH  0.35689268189460183 0.11039431773894248 2.47745990623749446\\nH  -0.30366713528169986 -2.13830381288934968 1.12190168489634567\\nH  -2.62597520000327211 -2.82899609159295551 0.60557205102931233\\nH  -4.81883292234630112 -0.55441111545703015 -0.99857458811882482\\nH  -3.16719572441693753 2.00868165909874952 -1.43182279133150248\\nH  -1.07406380935427181 1.74189334351849268 -0.61500701420164128\\n\",\"xyz\");\n",
       "\tviewergrid_1739838166973903[0][0].addLabel(\"Epinephrine \",{\"position\": {\"x\": 200.0, \"y\": 0, \"z\": 0}, \"alignment\": \"topCenter\", \"fontSize\": 24, \"backgroundOpacity\": 0, \"fontColor\": \"black\", \"useScreen\": true});\n",
       "\tviewergrid_1739838166973903[0][0].addLabel(\" \",{\"position\": {\"x\": 200.0, \"y\": 300, \"z\": 0}, \"alignment\": \"bottomCenter\", \"fontSize\": 20, \"backgroundOpacity\": 0, \"fontColor\": \"black\", \"useScreen\": true});\n",
       "\tviewergrid_1739838166973903[0][0].addLabel(\"0\",{\"position\": {\"x\": 3.7392717015142445, \"y\": 1.2084390107413228, \"z\": -0.3728184087708124}});\n",
       "\tviewergrid_1739838166973903[0][0].addLabel(\"1\",{\"position\": {\"x\": 3.342376340114719, \"y\": -0.12356056161574508, \"z\": 0.0575597806235629}});\n",
       "\tviewergrid_1739838166973903[0][0].addLabel(\"2\",{\"position\": {\"x\": 1.9416590856995835, \"y\": -0.433067915356148, \"z\": -0.28530576798387813}});\n",
       "\tviewergrid_1739838166973903[0][0].addLabel(\"3\",{\"position\": {\"x\": 0.8968923765049528, \"y\": 0.28714854346442376, \"z\": 0.6043898408915326}});\n",
       "\tviewergrid_1739838166973903[0][0].addLabel(\"4\",{\"position\": {\"x\": 1.1934669171257806, \"y\": 0.04225885056740579, \"z\": 1.9854918022282404}});\n",
       "\tviewergrid_1739838166973903[0][0].addLabel(\"5\",{\"position\": {\"x\": -0.5234203656391669, \"y\": -0.14319345500040306, \"z\": 0.2930200687735678}});\n",
       "\tviewergrid_1739838166973903[0][0].addLabel(\"6\",{\"position\": {\"x\": -0.9742959514173872, \"y\": -1.4343070897945531, \"z\": 0.6306424605981398}});\n",
       "\tviewergrid_1739838166973903[0][0].addLabel(\"7\",{\"position\": {\"x\": -2.281169453273327, \"y\": -1.8331076955748122, \"z\": 0.34396791957561673}});\n",
       "\tviewergrid_1739838166973903[0][0].addLabel(\"8\",{\"position\": {\"x\": -3.137490984606307, \"y\": -0.9420883016775556, \"z\": -0.28243096418979696}});\n",
       "\tviewergrid_1739838166973903[0][0].addLabel(\"9\",{\"position\": {\"x\": -4.4157137740338674, \"y\": -1.3312211299417678, \"z\": -0.5624742137890714}});\n",
       "\tviewergrid_1739838166973903[0][0].addLabel(\"10\",{\"position\": {\"x\": -2.7081268421208105, \"y\": 0.3364670770371919, \"z\": -0.6266061261843678}});\n",
       "\tviewergrid_1739838166973903[0][0].addLabel(\"11\",{\"position\": {\"x\": -3.606914009951447, \"y\": 1.1618588100761371, \"z\": -1.2444770925053483}});\n",
       "\tviewergrid_1739838166973903[0][0].addLabel(\"12\",{\"position\": {\"x\": -1.4077608663023613, \"y\": 0.7442330370150074, \"z\": -0.344879062125565}});\n",
       "\tviewergrid_1739838166973903[0][0].addLabel(\"13\",{\"position\": {\"x\": 4.796703880602566, \"y\": 1.3637739677773466, \"z\": -0.1367991612872187}});\n",
       "\tviewergrid_1739838166973903[0][0].addLabel(\"14\",{\"position\": {\"x\": 3.1696965239656008, \"y\": 1.9926922783073235, \"z\": 0.13428683756604903}});\n",
       "\tviewergrid_1739838166973903[0][0].addLabel(\"15\",{\"position\": {\"x\": 3.6250708384881665, \"y\": 1.3254194015513294, \"z\": -1.4552430505037568}});\n",
       "\tviewergrid_1739838166973903[0][0].addLabel(\"16\",{\"position\": {\"x\": 3.416378316623019, \"y\": -0.1787779625230431, \"z\": 1.0783366224572843}});\n",
       "\tviewergrid_1739838166973903[0][0].addLabel(\"17\",{\"position\": {\"x\": 1.7508221634638061, \"y\": -0.2363753431503878, \"z\": -1.3475450948964038}});\n",
       "\tviewergrid_1739838166973903[0][0].addLabel(\"18\",{\"position\": {\"x\": 1.8355318520585964, \"y\": -1.516543901173089, \"z\": -0.15047584708577236}});\n",
       "\tviewergrid_1739838166973903[0][0].addLabel(\"19\",{\"position\": {\"x\": 0.9798643606919569, \"y\": 1.370694078853224, \"z\": 0.4638587603366865}});\n",
       "\tviewergrid_1739838166973903[0][0].addLabel(\"20\",{\"position\": {\"x\": 0.3568926818946018, \"y\": 0.11039431773894248, \"z\": 2.4774599062374945}});\n",
       "\tviewergrid_1739838166973903[0][0].addLabel(\"21\",{\"position\": {\"x\": -0.30366713528169986, \"y\": -2.1383038128893497, \"z\": 1.1219016848963457}});\n",
       "\tviewergrid_1739838166973903[0][0].addLabel(\"22\",{\"position\": {\"x\": -2.625975200003272, \"y\": -2.8289960915929555, \"z\": 0.6055720510293123}});\n",
       "\tviewergrid_1739838166973903[0][0].addLabel(\"23\",{\"position\": {\"x\": -4.818832922346301, \"y\": -0.5544111154570301, \"z\": -0.9985745881188248}});\n",
       "\tviewergrid_1739838166973903[0][0].addLabel(\"24\",{\"position\": {\"x\": -3.1671957244169375, \"y\": 2.0086816590987495, \"z\": -1.4318227913315025}});\n",
       "\tviewergrid_1739838166973903[0][0].addLabel(\"25\",{\"position\": {\"x\": -1.0740638093542718, \"y\": 1.7418933435184927, \"z\": -0.6150070142016413}});\n",
       "\tviewergrid_1739838166973903[0][0].setStyle({\"stick\": {}, \"sphere\": {\"scale\": 0.3}});\n",
       "\tviewergrid_1739838166973903[0][0].zoomTo();\n",
       "viewergrid_1739838166973903[0][0].render();\n",
       "});\n",
       "</script></div>"
      ],
      "text/plain": [
       "<IPython.core.display.HTML object>"
      ]
     },
     "metadata": {},
     "output_type": "display_data"
    }
   ],
   "source": [
    "view.view(\n",
    "    epinephrine, \n",
    "    titles=[\"Epinephrine\"], \n",
    "    show_indices=True\n",
    ")"
   ]
  },
  {
   "cell_type": "markdown",
   "id": "dd967031",
   "metadata": {},
   "source": [
    "## Measure Distances Between Atoms"
   ]
  },
  {
   "cell_type": "code",
   "execution_count": 23,
   "id": "20ca8e9f",
   "metadata": {},
   "outputs": [
    {
     "data": {
      "text/html": [
       "<div style=\"display: flex; flex-wrap: wrap; justify-content: center;\"><div id=\"3dmolviewer_1739838167801321\"  style=\"position: relative; width: 400px; height: 300px;\">\n",
       "        <p id=\"3dmolwarning_1739838167801321\" style=\"background-color:#ffcccc;color:black\">3Dmol.js failed to load for some reason.  Please check your browser console for error messages.<br></p>\n",
       "        </div>\n",
       "<script>\n",
       "\n",
       "var loadScriptAsync = function(uri){\n",
       "  return new Promise((resolve, reject) => {\n",
       "    //this is to ignore the existence of requirejs amd\n",
       "    var savedexports, savedmodule;\n",
       "    if (typeof exports !== 'undefined') savedexports = exports;\n",
       "    else exports = {}\n",
       "    if (typeof module !== 'undefined') savedmodule = module;\n",
       "    else module = {}\n",
       "\n",
       "    var tag = document.createElement('script');\n",
       "    tag.src = uri;\n",
       "    tag.async = true;\n",
       "    tag.onload = () => {\n",
       "        exports = savedexports;\n",
       "        module = savedmodule;\n",
       "        resolve();\n",
       "    };\n",
       "  var firstScriptTag = document.getElementsByTagName('script')[0];\n",
       "  firstScriptTag.parentNode.insertBefore(tag, firstScriptTag);\n",
       "});\n",
       "};\n",
       "\n",
       "if(typeof $3Dmolpromise === 'undefined') {\n",
       "$3Dmolpromise = null;\n",
       "  $3Dmolpromise = loadScriptAsync('https://cdnjs.cloudflare.com/ajax/libs/3Dmol/2.4.2/3Dmol-min.js');\n",
       "}\n",
       "\n",
       "var viewer_1739838167801321 = null;\n",
       "var warn = document.getElementById(\"3dmolwarning_1739838167801321\");\n",
       "if(warn) {\n",
       "    warn.parentNode.removeChild(warn);\n",
       "}\n",
       "$3Dmolpromise.then(function() {\n",
       "var viewergrid_1739838167801321 = null;\n",
       "viewergrid_1739838167801321 = $3Dmol.createViewerGrid(document.getElementById(\"3dmolviewer_1739838167801321\"),{rows: 1, cols: 1, control_all: true},{backgroundColor:\"white\"});\n",
       "viewer_1739838167801321 = viewergrid_1739838167801321[0][0];\n",
       "viewergrid_1739838167801321[0][0].zoomTo();\tviewergrid_1739838167801321[0][0].addModel(\"26\\nqcio_charge=0 qcio_multiplicity=1 qcio__identifiers_smiles=CNC[C@H](O)c1ccc(O)c(O)c1 qcio__identifiers_canonical_smiles=CNC[C@H](O)c1ccc(O)c(O)c1 qcio__identifiers_canonical_smiles_program=rdkit\\nC  3.73927170151424448 1.20843901074132276 -0.37281840877081240\\nN  3.34237634011471885 -0.12356056161574508 0.05755978062356290\\nC  1.94165908569958345 -0.43306791535614803 -0.28530576798387813\\nC  0.89689237650495279 0.28714854346442376 0.60438984089153258\\nO  1.19346691712578057 0.04225885056740579 1.98549180222824040\\nC  -0.52342036563916694 -0.14319345500040306 0.29302006877356779\\nC  -0.97429595141738723 -1.43430708979455313 0.63064246059813978\\nC  -2.28116945327332710 -1.83310769557481223 0.34396791957561673\\nC  -3.13749098460630682 -0.94208830167755564 -0.28243096418979696\\nO  -4.41571377403386744 -1.33122112994176778 -0.56247421378907136\\nC  -2.70812684212081045 0.33646707703719192 -0.62660612618436784\\nO  -3.60691400995144695 1.16185881007613712 -1.24447709250534833\\nC  -1.40776086630236130 0.74423303701500743 -0.34487906212556502\\nH  4.79670388060256592 1.36377396777734661 -0.13679916128721870\\nH  3.16969652396560075 1.99269227830732354 0.13428683756604903\\nH  3.62507083848816647 1.32541940155132942 -1.45524305050375680\\nH  3.41637831662301883 -0.17877796252304309 1.07833662245728434\\nH  1.75082216346380615 -0.23637534315038780 -1.34754509489640384\\nH  1.83553185205859637 -1.51654390117308902 -0.15047584708577236\\nH  0.97986436069195693 1.37069407885322403 0.46385876033668649\\nH  0.35689268189460183 0.11039431773894248 2.47745990623749446\\nH  -0.30366713528169986 -2.13830381288934968 1.12190168489634567\\nH  -2.62597520000327211 -2.82899609159295551 0.60557205102931233\\nH  -4.81883292234630112 -0.55441111545703015 -0.99857458811882482\\nH  -3.16719572441693753 2.00868165909874952 -1.43182279133150248\\nH  -1.07406380935427181 1.74189334351849268 -0.61500701420164128\\n\",\"xyz\");\n",
       "\tviewergrid_1739838167801321[0][0].addLabel(\"Epinephrine \",{\"position\": {\"x\": 200.0, \"y\": 0, \"z\": 0}, \"alignment\": \"topCenter\", \"fontSize\": 24, \"backgroundOpacity\": 0, \"fontColor\": \"black\", \"useScreen\": true});\n",
       "\tviewergrid_1739838167801321[0][0].addLabel(\" \",{\"position\": {\"x\": 200.0, \"y\": 300, \"z\": 0}, \"alignment\": \"bottomCenter\", \"fontSize\": 20, \"backgroundOpacity\": 0, \"fontColor\": \"black\", \"useScreen\": true});\n",
       "\tviewergrid_1739838167801321[0][0].addLine({\"start\": {\"x\": 1.7508221634638061, \"y\": -0.2363753431503878, \"z\": -1.3475450948964038}, \"end\": {\"x\": -1.0740638093542718, \"y\": 1.7418933435184927, \"z\": -0.6150070142016413}, \"color\": \"red\", \"linewidth\": 2});\n",
       "\tviewergrid_1739838167801321[0][0].addLabel(\"3.53 \\u00c5\",{\"position\": {\"x\": 0.33837917705476717, \"y\": 0.7527590001840524, \"z\": -0.9812760545490226}, \"backgroundColor\": \"white\", \"fontSize\": 14, \"fontColor\": \"black\"});\n",
       "\tviewergrid_1739838167801321[0][0].addLine({\"start\": {\"x\": 0.3568926818946018, \"y\": 0.11039431773894248, \"z\": 2.4774599062374945}, \"end\": {\"x\": -0.30366713528169986, \"y\": -2.1383038128893497, \"z\": 1.1219016848963457}, \"color\": \"red\", \"linewidth\": 2});\n",
       "\tviewergrid_1739838167801321[0][0].addLabel(\"2.71 \\u00c5\",{\"position\": {\"x\": 0.026612773306450982, \"y\": -1.0139547475752035, \"z\": 1.79968079556692}, \"backgroundColor\": \"white\", \"fontSize\": 14, \"fontColor\": \"black\"});\n",
       "\tviewergrid_1739838167801321[0][0].setStyle({\"stick\": {}, \"sphere\": {\"scale\": 0.3}});\n",
       "\tviewergrid_1739838167801321[0][0].zoomTo();\n",
       "viewergrid_1739838167801321[0][0].render();\n",
       "});\n",
       "</script></div>"
      ],
      "text/plain": [
       "<IPython.core.display.HTML object>"
      ]
     },
     "metadata": {},
     "output_type": "display_data"
    }
   ],
   "source": [
    "view.view(\n",
    "    epinephrine, \n",
    "    titles=[\"Epinephrine\"], \n",
    "    distances=[(17,25), (20, 21)], \n",
    "    length_unit=\"angstrom\"\n",
    ")"
   ]
  }
 ],
 "metadata": {
  "kernelspec": {
   "display_name": "Python 3 (ipykernel)",
   "language": "python",
   "name": "python3"
  },
  "language_info": {
   "codemirror_mode": {
    "name": "ipython",
    "version": 3
   },
   "file_extension": ".py",
   "mimetype": "text/x-python",
   "name": "python",
   "nbconvert_exporter": "python",
   "pygments_lexer": "ipython3",
   "version": "3.12.4"
  }
 },
 "nbformat": 4,
 "nbformat_minor": 5
}
